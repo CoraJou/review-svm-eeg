{
 "cells": [
  {
   "cell_type": "code",
   "execution_count": 59,
   "metadata": {
    "ExecuteTime": {
     "end_time": "2022-08-31T14:48:26.258228Z",
     "start_time": "2022-08-31T14:48:26.253242Z"
    }
   },
   "outputs": [],
   "source": [
    "from matplotlib import pyplot as plt\n",
    "import pandas as pd\n",
    "import seaborn as sns\n",
    "import numpy as np\n",
    "import pingouin as pg"
   ]
  },
  {
   "cell_type": "markdown",
   "metadata": {},
   "source": [
    "# Visualisation données review SVM\n",
    "&copy; Coralie Joucla, JJ Aucouturier, CNRS, 2021"
   ]
  },
  {
   "cell_type": "markdown",
   "metadata": {},
   "source": [
    "## Load data and clean up"
   ]
  },
  {
   "cell_type": "code",
   "execution_count": 106,
   "metadata": {
    "ExecuteTime": {
     "end_time": "2022-08-31T14:55:17.368278Z",
     "start_time": "2022-08-31T14:55:17.357275Z"
    }
   },
   "outputs": [],
   "source": [
    "#data=pd.read_csv('data/review.csv', header=[1], sep=';', encoding='latin-1')\n",
    "data=pd.read_csv('data/table-review-svm-eeg.csv', header=[1], sep=';', encoding='latin-1')\n",
    "\n"
   ]
  },
  {
   "cell_type": "markdown",
   "metadata": {},
   "source": [
    "### Rename columns"
   ]
  },
  {
   "cell_type": "code",
   "execution_count": 107,
   "metadata": {
    "ExecuteTime": {
     "end_time": "2022-08-31T14:55:18.010101Z",
     "start_time": "2022-08-31T14:55:18.006080Z"
    }
   },
   "outputs": [],
   "source": [
    "# all column names snake case\n",
    "from stringcase import snakecase\n",
    "data.columns = map(str.lower, data.columns)\n",
    "data.columns = map(snakecase, data.columns)"
   ]
  },
  {
   "cell_type": "code",
   "execution_count": 108,
   "metadata": {
    "ExecuteTime": {
     "end_time": "2022-08-31T14:55:18.547908Z",
     "start_time": "2022-08-31T14:55:18.543919Z"
    }
   },
   "outputs": [
    {
     "data": {
      "text/plain": [
       "['1st_author',\n",
       " 'country',\n",
       " 'nb_authors',\n",
       " 'maths/eng__authors',\n",
       " 'neuro/med__authors',\n",
       " 'hybrid_authors',\n",
       " 'title',\n",
       " 'journal',\n",
       " 'impact_factor',\n",
       " 'pages',\n",
       " 'volume',\n",
       " 'issue',\n",
       " 'year',\n",
       " 'data_type',\n",
       " 'task',\n",
       " 'purpose',\n",
       " 'number_of_subjects',\n",
       " 'quantity_of_data_(total_nb_samples/subject)',\n",
       " 'subject_handling',\n",
       " 'eeg_setup',\n",
       " 'number_of_channels_really_used',\n",
       " 'final_sampling_rate',\n",
       " 'preprocessing',\n",
       " 'artifact_handling',\n",
       " 'features',\n",
       " 'features_optimisation/selection',\n",
       " 'kernel',\n",
       " 'hyperparameters_optimisation',\n",
       " 'hyperparameters',\n",
       " 'type_of_cross_validation',\n",
       " 'data_permutations',\n",
       " 'train_valid_test_scheme',\n",
       " 'software',\n",
       " 'data_normalisation',\n",
       " 'performance_metrics',\n",
       " 'best_accuracy_reported',\n",
       " 'statistical_testing',\n",
       " 'comparison_of_results',\n",
       " 'other_classifiers',\n",
       " 'number_of_equations',\n",
       " 'dataset',\n",
       " 'dataset_name',\n",
       " 'code',\n",
       " 'supplementary_materials']"
      ]
     },
     "execution_count": 108,
     "metadata": {},
     "output_type": "execute_result"
    }
   ],
   "source": [
    "list(data)"
   ]
  },
  {
   "cell_type": "code",
   "execution_count": 109,
   "metadata": {
    "ExecuteTime": {
     "end_time": "2022-08-31T14:55:29.346666Z",
     "start_time": "2022-08-31T14:55:29.341681Z"
    }
   },
   "outputs": [
    {
     "data": {
      "text/plain": [
       "0       NS\n",
       "1       NS\n",
       "2       NS\n",
       "3      Yes\n",
       "4       NS\n",
       "      ... \n",
       "171     NS\n",
       "172    Yes\n",
       "173     NS\n",
       "174     NS\n",
       "175     NS\n",
       "Name: hyperparameters, Length: 176, dtype: object"
      ]
     },
     "execution_count": 109,
     "metadata": {},
     "output_type": "execute_result"
    }
   ],
   "source": [
    "data.hyperparameters"
   ]
  },
  {
   "cell_type": "code",
   "execution_count": 110,
   "metadata": {
    "ExecuteTime": {
     "end_time": "2022-08-31T14:55:29.600465Z",
     "start_time": "2022-08-31T14:55:29.595446Z"
    }
   },
   "outputs": [],
   "source": [
    "data.rename(columns={'1st_author':'first_author',\n",
    "                     'country':'country',\n",
    "                     'maths/eng__authors':'nb_cs_authors',\n",
    "                     'neuro/med__authors':'nb_neuro_authors',\n",
    "                     'hybrid_authors':'nb_mixed_authors',\n",
    "                     'best_accuracy_reported':'accuracy',\n",
    "                     'journal':'journal',\n",
    "                     'data_type':'data_type',\n",
    "                     'type_of_cross_validation':'cross_validation',\n",
    "                     'hyperparameters_optimisation':'hyper_optimized', \n",
    "                     'hyperparameters':'hyper_values',\n",
    "                     'optimization_hyperparams':'hyper_method',\n",
    "                     'data_normalisation':'norm_method',\n",
    "                     'performance_metrics':'performance_metrics',\n",
    "                     'code':'code_given',\n",
    "                     'quantity_of_data_(total_nb_samples/subject)': 'nb_samples',\n",
    "                     'number_of_subjects':'nb_subjects',\n",
    "                     'subject_handling':'within_between',\n",
    "                     'preprocessing':'eeg_preprocessing',\n",
    "                     'artifact_handling':'artifact_handling',\n",
    "                     'software':'software'},\n",
    "                inplace=True)\n",
    "\n",
    "# data.drop(columns=['type_of_journal', #empty\n",
    "#                   'data_type', #raw, unclassified\n",
    "#                   'task', #raw, unclassified\n",
    "#                   'purpose', #raw, unclassified\n",
    "#                   'quantity_of_data_(total_min_recording/subject)',\n",
    "#                   'hardware',\n",
    "#                   'eeg_nets',\n",
    "#                   'nb_channels',\n",
    "#                   'sampling_rate',\n",
    "#                   'data_augmentation',\n",
    "#                   'features_optimization/selection',\n",
    "#                   'nb_features',\n",
    "#                   'svm_type',\n",
    "#                   'kernel',\n",
    "#                   'comparison_of_results',\n",
    "#                   'other_classifiers',\n",
    "#                   'other_features_selection_methods',\n",
    "#                   'supplementary_materials'], inplace=True)"
   ]
  },
  {
   "cell_type": "markdown",
   "metadata": {},
   "source": [
    "### Convert columns to numeric"
   ]
  },
  {
   "cell_type": "code",
   "execution_count": 111,
   "metadata": {
    "ExecuteTime": {
     "end_time": "2022-08-31T14:55:32.404324Z",
     "start_time": "2022-08-31T14:55:32.399338Z"
    }
   },
   "outputs": [],
   "source": [
    "def convert_col_to_numeric(data, name, rename): \n",
    "    \n",
    "    # replace commas (excel)\n",
    "    data[name] = [str(x).replace(',', '.') for x in data[name]]\n",
    "    # rename special values (ex. spurrious strs)\n",
    "    data[name] = data[name].apply(lambda value: rename[value] if value in rename else value)\n",
    "    # coerce the rest into num\n",
    "    data[name] = pd.to_numeric(data[name], errors='coerce')\n",
    "    return data[name]    "
   ]
  },
  {
   "cell_type": "code",
   "execution_count": 112,
   "metadata": {
    "ExecuteTime": {
     "end_time": "2022-08-31T14:55:32.661495Z",
     "start_time": "2022-08-31T14:55:32.654515Z"
    }
   },
   "outputs": [
    {
     "name": "stdout",
     "output_type": "stream",
     "text": [
      "[ 98.      90.19    88.4     92.      94.79    99.11    72.      64.\n",
      "  91.125   67.85    82.28    73.14    91.12    99.81    85.      90.\n",
      "  74.3     85.81   100.      95.64    71.88    88.89    84.      89.45\n",
      "  69.32    91.4     88.      68.2     65.81    71.2     76.      95.1\n",
      "  94.4     98.8     86.03    66.98    69.73    77.52    96.4     75.5\n",
      "  64.4     80.      98.57    94.61    87.88    75.      91.85    98.9\n",
      "  91.6     88.6     90.2         nan  91.88    86.54    92.91    68.3\n",
      "  91.9     65.      99.      82.      80.71    96.      94.      87.\n",
      "  80.7     87.9     93.27    94.9     65.2     74.73    90.25    87.27\n",
      "  82.5     88.1     85.67    99.86    89.5     92.3     81.23    82.29\n",
      "  72.5     85.71    88.07    89.17    73.2     97.      56.      96.02\n",
      "  88.33    95.      88.9     69.34    58.      62.5     81.07    93.16\n",
      "  95.34    69.5     85.19    97.2     85.2     99.1     81.94    75.9\n",
      "  76.41    94.11    94.1     86.96    87.64    93.5     80.15    90.63\n",
      "  74.2     80.19    87.8     89.7     84.3     93.08    91.18    93.03\n",
      "  86.2     93.134   74.      78.5074  73.39    78.      79.      99.32\n",
      "  90.7     82.4     85.7   ]\n"
     ]
    }
   ],
   "source": [
    "data.accuracy = convert_col_to_numeric(data,'accuracy',rename={'multiclass':pd.NA,\n",
    "                                                               'multiclass 35.5':pd.NA,\n",
    "                                                               'non reportée':pd.NA,\n",
    "                                                               '-':pd.NA,\n",
    "                                                               'figs':pd.NA,\n",
    "                                                               'kappa':pd.NA,\n",
    "                                                               'nan':pd.NA,\n",
    "                                                               '':pd.NA,\n",
    "                                                               '0.56':56})\n",
    "print(data.accuracy.unique())"
   ]
  },
  {
   "cell_type": "code",
   "execution_count": 113,
   "metadata": {
    "ExecuteTime": {
     "end_time": "2022-08-31T14:55:32.912608Z",
     "start_time": "2022-08-31T14:55:32.905625Z"
    }
   },
   "outputs": [
    {
     "data": {
      "text/plain": [
       "array([ 4.387,  1.833,  3.031,  4.551,  4.084,  1.82 ,  2.323,  3.582,\n",
       "        3.424,  4.217,  4.491,  4.042,  2.785,  2.18 ,  6.507,  2.246,\n",
       "        5.182,  2.154,  3.24 ,  2.776,  8.222,  2.286,  4.314,  0.96 ,\n",
       "        1.418,  4.438,  3.614,  2.882,  2.888,  2.415,  5.812,  2.19 ,\n",
       "       10.387,  4.122,  0.787,  2.643,  3.188,  3.244,  3.478,  1.018,\n",
       "        4.504,  2.42 ,  0.735,  7.197,  3.574,  1.139,  3.104, 15.071,\n",
       "        4.5  ,  2.55 ,  2.87 ,  3.648,  3.45 ,  2.627,  1.961,  2.424,\n",
       "        1.34 ,  2.493,  1.067,  2.197,  1.848,  0.993,  1.935,  2.013,\n",
       "        1.295,  1.006,  4.428,  4.554,  3.909,  1.587,  2.129,  3.   ,\n",
       "        5.032])"
      ]
     },
     "execution_count": 113,
     "metadata": {},
     "output_type": "execute_result"
    }
   ],
   "source": [
    "data.impact_factor = convert_col_to_numeric(data,'impact_factor',rename={})\n",
    "data.impact_factor.unique()"
   ]
  },
  {
   "cell_type": "code",
   "execution_count": 114,
   "metadata": {
    "ExecuteTime": {
     "end_time": "2022-08-31T14:55:33.190738Z",
     "start_time": "2022-08-31T14:55:33.183756Z"
    }
   },
   "outputs": [
    {
     "data": {
      "text/plain": [
       "array([ 71.42857143, 100.        ,  66.66666667,  28.57142857,\n",
       "         0.        ,  75.        ,  50.        ,  11.11111111,\n",
       "        80.        ,  10.        ,   7.69230769,  42.85714286,\n",
       "        25.        ,  83.33333333,  60.        ,  85.71428571,\n",
       "        20.        ,  18.18181818,  33.33333333,  40.        ,\n",
       "        11.53846154])"
      ]
     },
     "execution_count": 114,
     "metadata": {},
     "output_type": "execute_result"
    }
   ],
   "source": [
    "data['percent_cs_authors'] = 100* data.nb_cs_authors / data.nb_authors\n",
    "data['percent_cs_authors'] = convert_col_to_numeric(data,'percent_cs_authors',rename={})\n",
    "data['percent_cs_authors'].unique()"
   ]
  },
  {
   "cell_type": "markdown",
   "metadata": {},
   "source": [
    "## Distribution accuracy vs discipline"
   ]
  },
  {
   "cell_type": "code",
   "execution_count": 115,
   "metadata": {
    "ExecuteTime": {
     "end_time": "2022-08-31T14:55:34.932251Z",
     "start_time": "2022-08-31T14:55:34.924273Z"
    }
   },
   "outputs": [
    {
     "data": {
      "text/plain": [
       "count    160.000000\n",
       "mean      85.543477\n",
       "std       10.213847\n",
       "min       56.000000\n",
       "25%       78.876850\n",
       "50%       87.840000\n",
       "75%       93.187500\n",
       "max      100.000000\n",
       "Name: accuracy, dtype: float64"
      ]
     },
     "execution_count": 115,
     "metadata": {},
     "output_type": "execute_result"
    }
   ],
   "source": [
    "data.accuracy.describe()"
   ]
  },
  {
   "cell_type": "code",
   "execution_count": 116,
   "metadata": {
    "ExecuteTime": {
     "end_time": "2022-08-31T14:55:35.325971Z",
     "start_time": "2022-08-31T14:55:35.189954Z"
    }
   },
   "outputs": [
    {
     "name": "stdout",
     "output_type": "stream",
     "text": [
      "mean Accuracy:85.543477\n",
      "median Accuracy:87.840000\n"
     ]
    },
    {
     "data": {
      "text/plain": [
       "<matplotlib.axes._subplots.AxesSubplot at 0x26e55764e48>"
      ]
     },
     "execution_count": 116,
     "metadata": {},
     "output_type": "execute_result"
    },
    {
     "data": {
      "image/png": "[encoded data removed]",
      "text/plain": [
       "<Figure size 720x360 with 1 Axes>"
      ]
     },
     "metadata": {
      "needs_background": "light"
     },
     "output_type": "display_data"
    }
   ],
   "source": [
    "fig = plt.figure(figsize=(10,5))\n",
    "print('mean Accuracy:%f'%data.accuracy.mean())\n",
    "print('median Accuracy:%f'%data.accuracy.median())\n",
    "\n",
    "sns.histplot(data=data,\n",
    "             x='accuracy',\n",
    "            binwidth=5, multiple='layer', kde=True)"
   ]
  },
  {
   "cell_type": "code",
   "execution_count": 117,
   "metadata": {
    "ExecuteTime": {
     "end_time": "2022-08-31T14:55:35.613959Z",
     "start_time": "2022-08-31T14:55:35.428204Z"
    }
   },
   "outputs": [
    {
     "name": "stdout",
     "output_type": "stream",
     "text": [
      "media IF:3.031000\n"
     ]
    },
    {
     "data": {
      "text/plain": [
       "<matplotlib.axes._subplots.AxesSubplot at 0x26e557bdeb8>"
      ]
     },
     "execution_count": 117,
     "metadata": {},
     "output_type": "execute_result"
    },
    {
     "data": {
      "image/png": "[encoded data removed]",
      "text/plain": [
       "<Figure size 720x360 with 1 Axes>"
      ]
     },
     "metadata": {
      "needs_background": "light"
     },
     "output_type": "display_data"
    }
   ],
   "source": [
    "fig = plt.figure(figsize=(10,5))\n",
    "median_if = data.impact_factor.median()\n",
    "print('media IF:%f'%median_if)\n",
    "bins = [0,median_if, np.inf]\n",
    "names = ['0-%d'%median_if, '%d+'%median_if]\n",
    "data['impact_factor_bin'] = pd.cut(data.impact_factor, \n",
    "                                   bins, \n",
    "                                   labels=names,\n",
    "                                   include_lowest=True)\n",
    "\n",
    "sns.histplot(data=data,\n",
    "             x='accuracy',\n",
    "             hue='impact_factor_bin',             \n",
    "            binwidth=5, multiple='layer', kde=True)\n",
    "\n"
   ]
  },
  {
   "cell_type": "code",
   "execution_count": 118,
   "metadata": {
    "ExecuteTime": {
     "end_time": "2022-08-31T14:55:35.809479Z",
     "start_time": "2022-08-31T14:55:35.628924Z"
    }
   },
   "outputs": [
    {
     "name": "stdout",
     "output_type": "stream",
     "text": [
      "median :33.333333\n",
      "percent_cs_authors_bin\n",
      "0-33     40\n",
      "33-99    36\n",
      "Name: accuracy, dtype: int64\n"
     ]
    },
    {
     "data": {
      "text/plain": [
       "<matplotlib.axes._subplots.AxesSubplot at 0x26e55836a90>"
      ]
     },
     "execution_count": 118,
     "metadata": {},
     "output_type": "execute_result"
    },
    {
     "data": {
      "image/png": "[encoded data removed]",
      "text/plain": [
       "<Figure size 720x360 with 1 Axes>"
      ]
     },
     "metadata": {
      "needs_background": "light"
     },
     "output_type": "display_data"
    }
   ],
   "source": [
    "fig = plt.figure(figsize=(10,5))\n",
    "median_percent = data[data['percent_cs_authors']<100]['percent_cs_authors'].median()\n",
    "print('median :%f'%median_percent)\n",
    "bins = [0,median_percent,99]\n",
    "names = ['0-%d'%median_percent,'%d-99'%median_percent]\n",
    "data['percent_cs_authors_bin'] = pd.cut(data[data['percent_cs_authors']<100]['percent_cs_authors'],\n",
    "                                bins,\n",
    "                                labels=names,\n",
    "                               include_lowest=True)\n",
    "print(data[data['percent_cs_authors']<100].groupby(['percent_cs_authors_bin']).accuracy.count())\n",
    "\n",
    "sns.histplot(data=data,\n",
    "             x='accuracy',\n",
    "             hue='percent_cs_authors_bin',             \n",
    "            binwidth=5, multiple='dodge', kde=True)"
   ]
  },
  {
   "cell_type": "code",
   "execution_count": 119,
   "metadata": {
    "ExecuteTime": {
     "end_time": "2022-08-31T14:55:36.343294Z",
     "start_time": "2022-08-31T14:55:35.834414Z"
    }
   },
   "outputs": [
    {
     "name": "stdout",
     "output_type": "stream",
     "text": [
      "full\n",
      "cs       84\n",
      "mixed    51\n",
      "neuro    25\n",
      "Name: accuracy, dtype: int64\n"
     ]
    },
    {
     "name": "stderr",
     "output_type": "stream",
     "text": [
      "The PostScript backend does not support transparency; partially transparent artists will be rendered opaque.\n",
      "The PostScript backend does not support transparency; partially transparent artists will be rendered opaque.\n",
      "The PostScript backend does not support transparency; partially transparent artists will be rendered opaque.\n",
      "The PostScript backend does not support transparency; partially transparent artists will be rendered opaque.\n",
      "The PostScript backend does not support transparency; partially transparent artists will be rendered opaque.\n",
      "The PostScript backend does not support transparency; partially transparent artists will be rendered opaque.\n",
      "The PostScript backend does not support transparency; partially transparent artists will be rendered opaque.\n",
      "The PostScript backend does not support transparency; partially transparent artists will be rendered opaque.\n",
      "The PostScript backend does not support transparency; partially transparent artists will be rendered opaque.\n",
      "The PostScript backend does not support transparency; partially transparent artists will be rendered opaque.\n",
      "The PostScript backend does not support transparency; partially transparent artists will be rendered opaque.\n",
      "The PostScript backend does not support transparency; partially transparent artists will be rendered opaque.\n",
      "The PostScript backend does not support transparency; partially transparent artists will be rendered opaque.\n",
      "The PostScript backend does not support transparency; partially transparent artists will be rendered opaque.\n",
      "The PostScript backend does not support transparency; partially transparent artists will be rendered opaque.\n",
      "The PostScript backend does not support transparency; partially transparent artists will be rendered opaque.\n",
      "The PostScript backend does not support transparency; partially transparent artists will be rendered opaque.\n",
      "The PostScript backend does not support transparency; partially transparent artists will be rendered opaque.\n",
      "The PostScript backend does not support transparency; partially transparent artists will be rendered opaque.\n",
      "The PostScript backend does not support transparency; partially transparent artists will be rendered opaque.\n",
      "The PostScript backend does not support transparency; partially transparent artists will be rendered opaque.\n",
      "The PostScript backend does not support transparency; partially transparent artists will be rendered opaque.\n",
      "The PostScript backend does not support transparency; partially transparent artists will be rendered opaque.\n",
      "The PostScript backend does not support transparency; partially transparent artists will be rendered opaque.\n"
     ]
    },
    {
     "data": {
      "image/png": "[encoded data removed]",
      "text/plain": [
       "<Figure size 1440x360 with 2 Axes>"
      ]
     },
     "metadata": {
      "needs_background": "light"
     },
     "output_type": "display_data"
    }
   ],
   "source": [
    "fig = plt.figure(figsize=(20,5))\n",
    "\n",
    "data['full']='mixed'\n",
    "data.loc[data['percent_cs_authors']==100,'full']='cs'\n",
    "data.loc[data['percent_cs_authors']==0,'full']='neuro'\n",
    "\n",
    "print(data.groupby(['full']).accuracy.count())\n",
    "ax=plt.subplot(121)\n",
    "ax=sns.histplot(data=data,\n",
    "             x='accuracy',\n",
    "             hue='full', hue_order=['neuro','cs'],#stat='probability',common_norm=False,\n",
    "            binwidth=5, multiple='dodge', kde=True)\n",
    "ax.legend_._set_loc(2)\n",
    "ax.legend_.set_title('Authorship')\n",
    "ax.set_xlabel('Best accuracy (%)')\n",
    "ax.set_ylabel('Papers (count)')\n",
    "\n",
    "plt.subplot(143)\n",
    "ax=sns.kdeplot(data=data,\n",
    "            x='accuracy',\n",
    "            y='percent_cs_authors',\n",
    "            #y='impact_factor',\n",
    "            hue='impact_factor_bin',hue_order=['3+','0-3'],\n",
    "            #hue='full',hue_order=['neuro','cs'],\n",
    "            alpha=1,levels=10, #thresh=0.1,           \n",
    "            fill=False)\n",
    "ax.legend_._set_loc(3)\n",
    "ax.legend_.set_title('Journal IF')\n",
    "ax.set_xlabel('Best accuracy (%)')\n",
    "ax.set_ylabel('Proportion of CS authors (%)')\n",
    "\n",
    "plt.savefig('./pics/accuracy_authorship.eps', format='eps', dpi=600, transparent=True)"
   ]
  },
  {
   "cell_type": "markdown",
   "metadata": {},
   "source": [
    "## EEG Preprocessing & artifact handling "
   ]
  },
  {
   "cell_type": "code",
   "execution_count": 120,
   "metadata": {
    "ExecuteTime": {
     "end_time": "2022-08-31T14:55:36.349289Z",
     "start_time": "2022-08-31T14:55:36.344292Z"
    }
   },
   "outputs": [],
   "source": [
    "# use only papers where preprocessing was annotated\n",
    "pre_proc = data['eeg_preprocessing'].dropna().reset_index()\n",
    "# rename preprocessing as true/false\n",
    "pre_proc.loc[pre_proc.eeg_preprocessing=='NS','eeg_preprocessing'] = False\n",
    "pre_proc.loc[pre_proc.eeg_preprocessing != False, 'eeg_preprocessing'] = True\n"
   ]
  },
  {
   "cell_type": "code",
   "execution_count": 121,
   "metadata": {
    "ExecuteTime": {
     "end_time": "2022-08-31T14:55:36.447028Z",
     "start_time": "2022-08-31T14:55:36.440046Z"
    }
   },
   "outputs": [
    {
     "data": {
      "text/html": [
       "<div>\n",
       "<style scoped>\n",
       "    .dataframe tbody tr th:only-of-type {\n",
       "        vertical-align: middle;\n",
       "    }\n",
       "\n",
       "    .dataframe tbody tr th {\n",
       "        vertical-align: top;\n",
       "    }\n",
       "\n",
       "    .dataframe thead th {\n",
       "        text-align: right;\n",
       "    }\n",
       "</style>\n",
       "<table border=\"1\" class=\"dataframe\">\n",
       "  <thead>\n",
       "    <tr style=\"text-align: right;\">\n",
       "      <th></th>\n",
       "      <th>index</th>\n",
       "    </tr>\n",
       "    <tr>\n",
       "      <th>eeg_preprocessing</th>\n",
       "      <th></th>\n",
       "    </tr>\n",
       "  </thead>\n",
       "  <tbody>\n",
       "    <tr>\n",
       "      <th>False</th>\n",
       "      <td>21</td>\n",
       "    </tr>\n",
       "    <tr>\n",
       "      <th>True</th>\n",
       "      <td>124</td>\n",
       "    </tr>\n",
       "  </tbody>\n",
       "</table>\n",
       "</div>"
      ],
      "text/plain": [
       "                   index\n",
       "eeg_preprocessing       \n",
       "False                 21\n",
       "True                 124"
      ]
     },
     "execution_count": 121,
     "metadata": {},
     "output_type": "execute_result"
    }
   ],
   "source": [
    "pre_proc.groupby('eeg_preprocessing').count()"
   ]
  },
  {
   "cell_type": "code",
   "execution_count": 122,
   "metadata": {
    "ExecuteTime": {
     "end_time": "2022-08-31T14:55:36.659911Z",
     "start_time": "2022-08-31T14:55:36.653927Z"
    }
   },
   "outputs": [],
   "source": [
    "# use only papers where preprocessing was annotated\n",
    "artefact = data['artifact_handling'].dropna().reset_index()\n",
    "# rename preprocessing as true/false\n",
    "artefact.loc[artefact.artifact_handling=='NS','artifact_handling'] = False\n",
    "artefact.loc[artefact.artifact_handling != False, 'artifact_handling'] = True\n"
   ]
  },
  {
   "cell_type": "code",
   "execution_count": 123,
   "metadata": {
    "ExecuteTime": {
     "end_time": "2022-08-31T14:55:37.083201Z",
     "start_time": "2022-08-31T14:55:37.076226Z"
    }
   },
   "outputs": [
    {
     "data": {
      "text/html": [
       "<div>\n",
       "<style scoped>\n",
       "    .dataframe tbody tr th:only-of-type {\n",
       "        vertical-align: middle;\n",
       "    }\n",
       "\n",
       "    .dataframe tbody tr th {\n",
       "        vertical-align: top;\n",
       "    }\n",
       "\n",
       "    .dataframe thead th {\n",
       "        text-align: right;\n",
       "    }\n",
       "</style>\n",
       "<table border=\"1\" class=\"dataframe\">\n",
       "  <thead>\n",
       "    <tr style=\"text-align: right;\">\n",
       "      <th></th>\n",
       "      <th>index</th>\n",
       "    </tr>\n",
       "    <tr>\n",
       "      <th>artifact_handling</th>\n",
       "      <th></th>\n",
       "    </tr>\n",
       "  </thead>\n",
       "  <tbody>\n",
       "    <tr>\n",
       "      <th>False</th>\n",
       "      <td>63</td>\n",
       "    </tr>\n",
       "    <tr>\n",
       "      <th>True</th>\n",
       "      <td>82</td>\n",
       "    </tr>\n",
       "  </tbody>\n",
       "</table>\n",
       "</div>"
      ],
      "text/plain": [
       "                   index\n",
       "artifact_handling       \n",
       "False                 63\n",
       "True                  82"
      ]
     },
     "execution_count": 123,
     "metadata": {},
     "output_type": "execute_result"
    }
   ],
   "source": [
    "artefact.groupby('artifact_handling').count()"
   ]
  },
  {
   "cell_type": "markdown",
   "metadata": {},
   "source": [
    "## Researchers' degree of freedoms"
   ]
  },
  {
   "cell_type": "markdown",
   "metadata": {},
   "source": [
    "### Hyperparameters"
   ]
  },
  {
   "cell_type": "code",
   "execution_count": 124,
   "metadata": {
    "ExecuteTime": {
     "end_time": "2022-08-31T14:55:38.068860Z",
     "start_time": "2022-08-31T14:55:38.065832Z"
    }
   },
   "outputs": [
    {
     "data": {
      "text/plain": [
       "array(['No', 'Gridsearch', 'Toolbox', 'Kernel autoscaling', 'Yes',\n",
       "       'Trial/error', 'Previous work', 'Genetic algorithm',\n",
       "       'LOPO-CV+gridsearch', 'Line search', 'Bayesian', 'Particle Swarm',\n",
       "       'Gridsearch (nested)', 'Yes (NS)', 'Maximum likelihood',\n",
       "       'Gradient ascent (sigma only)', 'Linesearch'], dtype=object)"
      ]
     },
     "execution_count": 124,
     "metadata": {},
     "output_type": "execute_result"
    }
   ],
   "source": [
    "data['hyper_optimized'].unique()"
   ]
  },
  {
   "cell_type": "code",
   "execution_count": 125,
   "metadata": {
    "ExecuteTime": {
     "end_time": "2022-08-31T14:55:38.552425Z",
     "start_time": "2022-08-31T14:55:38.544413Z"
    }
   },
   "outputs": [],
   "source": [
    "# 'no' is in fact 'unknown'\n",
    "def rename_optim(row):\n",
    "    if row.hyper_optimized=='No':  \n",
    "        return \"unknown\"\n",
    "    else:\n",
    "        return \"yes\"\n",
    "data['hyper_optimized'] = data.apply(lambda row: rename_optim(row), axis=1) \n"
   ]
  },
  {
   "cell_type": "code",
   "execution_count": 126,
   "metadata": {
    "ExecuteTime": {
     "end_time": "2022-08-31T14:55:38.995553Z",
     "start_time": "2022-08-31T14:55:38.986614Z"
    }
   },
   "outputs": [
    {
     "data": {
      "text/plain": [
       "hyper_optimized  hyper_given\n",
       "unknown          no             100\n",
       "                 yes             24\n",
       "yes              no              35\n",
       "                 yes             17\n",
       "Name: first_author, dtype: int64"
      ]
     },
     "execution_count": 126,
     "metadata": {},
     "output_type": "execute_result"
    }
   ],
   "source": [
    "# hyperparameters given or not\n",
    "data['hyper_given']='yes'\n",
    "data.loc[data.hyper_values=='NS','hyper_given']='no'\n",
    "data.groupby(['hyper_optimized','hyper_given'])['first_author'].count()"
   ]
  },
  {
   "cell_type": "code",
   "execution_count": 127,
   "metadata": {
    "ExecuteTime": {
     "end_time": "2022-08-31T14:55:39.400092Z",
     "start_time": "2022-08-31T14:55:39.390119Z"
    }
   },
   "outputs": [],
   "source": [
    "def recode_hyper(row): \n",
    "    if (row.hyper_optimized=='unknown'):\n",
    "        if row.hyper_given=='no':\n",
    "            return 'unknown, not given'\n",
    "        if row.hyper_given=='yes':\n",
    "            return 'unknown, given'\n",
    "    if (row.hyper_optimized=='yes'):\n",
    "        if row.hyper_given=='no':\n",
    "            return 'optimized, not given'\n",
    "        if row.hyper_given=='yes':\n",
    "            return 'optimized, given'      \n",
    "        \n",
    "data['hyper_quality']=data.apply(lambda row: recode_hyper(row), axis=1)"
   ]
  },
  {
   "cell_type": "code",
   "execution_count": 128,
   "metadata": {
    "ExecuteTime": {
     "end_time": "2022-08-31T14:55:40.228533Z",
     "start_time": "2022-08-31T14:55:39.971218Z"
    }
   },
   "outputs": [
    {
     "data": {
      "text/plain": [
       "<Figure size 1440x360 with 0 Axes>"
      ]
     },
     "metadata": {},
     "output_type": "display_data"
    },
    {
     "data": {
      "image/png": "[encoded data removed]",
      "text/plain": [
       "<Figure size 498.375x360 with 1 Axes>"
      ]
     },
     "metadata": {
      "needs_background": "light"
     },
     "output_type": "display_data"
    }
   ],
   "source": [
    "fig = plt.figure(figsize=(20,5))\n",
    "\n",
    "ax=sns.displot(data=data[data.full.isin(['neuro','cs'])],\n",
    "             y='full',\n",
    "                hue='hyper_quality', hue_order=['optimized, given',\n",
    "                                                'optimized, not given', \n",
    "                                                'unknown, given', \n",
    "                                                'unknown, not given'], stat='count',common_norm=True,\n",
    "            binwidth=5, multiple='fill', shrink=.8)\n",
    "  \n",
    "\n",
    "plt.savefig('./pics/hyper_parameter.pdf', format='pdf', dpi=600)"
   ]
  },
  {
   "cell_type": "markdown",
   "metadata": {},
   "source": [
    "### Normalisation"
   ]
  },
  {
   "cell_type": "code",
   "execution_count": 129,
   "metadata": {
    "ExecuteTime": {
     "end_time": "2022-08-31T14:55:42.166005Z",
     "start_time": "2022-08-31T14:55:42.161980Z"
    }
   },
   "outputs": [
    {
     "data": {
      "text/plain": [
       "array(['NS', 'Norm (-1, 1)', 'z-score', 'z-score, subject normalization',\n",
       "       'Yes', 'Energy normalization', 'Norm(0, 1)', 'Z-score', '0-1',\n",
       "       'min-max normalisation', 'Z-score, ACE', 'Norm (0,1)', 'Norm(0,1)',\n",
       "       'min-max', 'L1 Norm'], dtype=object)"
      ]
     },
     "execution_count": 129,
     "metadata": {},
     "output_type": "execute_result"
    }
   ],
   "source": [
    "data.norm_method.unique()"
   ]
  },
  {
   "cell_type": "code",
   "execution_count": 130,
   "metadata": {
    "ExecuteTime": {
     "end_time": "2022-08-31T14:55:42.973984Z",
     "start_time": "2022-08-31T14:55:42.964958Z"
    }
   },
   "outputs": [],
   "source": [
    "def rename_norm(row):\n",
    "    if 'z-score' in row.norm_method.lower(): \n",
    "        return 'z-score'\n",
    "    if row.norm_method=='NS':  \n",
    "        return \"unknown\"\n",
    "    else:\n",
    "        # warning, some methods are unknown (\"Yes\"), and so potentially z-score; here we default them to \"other\".\n",
    "        return \"other\"\n",
    "\n",
    "data['normalized_method'] = data.apply(lambda row: rename_norm(row), axis=1) "
   ]
  },
  {
   "cell_type": "code",
   "execution_count": 131,
   "metadata": {
    "ExecuteTime": {
     "end_time": "2022-08-31T14:55:43.526002Z",
     "start_time": "2022-08-31T14:55:43.519021Z"
    }
   },
   "outputs": [
    {
     "data": {
      "text/plain": [
       "normalized_method  norm_method                   \n",
       "other              0-1                                 1\n",
       "                   Energy normalization                1\n",
       "                   L1 Norm                             1\n",
       "                   Norm (-1, 1)                        2\n",
       "                   Norm (0,1)                          1\n",
       "                   Norm(0, 1)                          2\n",
       "                   Norm(0,1)                           2\n",
       "                   Yes                                12\n",
       "                   min-max                             1\n",
       "                   min-max normalisation               1\n",
       "unknown            NS                                126\n",
       "z-score            Z-score                             7\n",
       "                   Z-score, ACE                        1\n",
       "                   z-score                            17\n",
       "                   z-score, subject normalization      1\n",
       "Name: first_author, dtype: int64"
      ]
     },
     "execution_count": 131,
     "metadata": {},
     "output_type": "execute_result"
    }
   ],
   "source": [
    "data.groupby(['normalized_method','norm_method']).first_author.count()"
   ]
  },
  {
   "cell_type": "code",
   "execution_count": 132,
   "metadata": {
    "ExecuteTime": {
     "end_time": "2022-08-31T14:55:44.294123Z",
     "start_time": "2022-08-31T14:55:44.056726Z"
    }
   },
   "outputs": [
    {
     "data": {
      "text/plain": [
       "<Figure size 1440x360 with 0 Axes>"
      ]
     },
     "metadata": {},
     "output_type": "display_data"
    },
    {
     "data": {
      "image/png": "[encoded data removed]",
      "text/plain": [
       "<Figure size 466.875x360 with 1 Axes>"
      ]
     },
     "metadata": {
      "needs_background": "light"
     },
     "output_type": "display_data"
    }
   ],
   "source": [
    "fig = plt.figure(figsize=(20,5))\n",
    "\n",
    "ax=sns.displot(data=data[data.full.isin(['neuro','cs'])],\n",
    "             y='full',\n",
    "                hue='normalized_method', stat='count',common_norm=True,\n",
    "            binwidth=5, multiple='fill', shrink=.8)\n",
    "  \n",
    "\n",
    "plt.savefig('./pics/normalization.pdf', format='pdf', dpi=600)"
   ]
  },
  {
   "cell_type": "markdown",
   "metadata": {},
   "source": [
    "### Cross validation"
   ]
  },
  {
   "cell_type": "code",
   "execution_count": 134,
   "metadata": {
    "ExecuteTime": {
     "end_time": "2022-08-31T14:56:35.398707Z",
     "start_time": "2022-08-31T14:56:35.393721Z"
    }
   },
   "outputs": [
    {
     "data": {
      "text/plain": [
       "array(['NS', '10', 'LOSO', '5', 'LOO', 'k', '2', '4', '3', '20', 'nested',\n",
       "       '8', '0', nan, '6', '30', 'sliding blocks'], dtype=object)"
      ]
     },
     "execution_count": 134,
     "metadata": {},
     "output_type": "execute_result"
    }
   ],
   "source": [
    "data['cross_validation'].unique()"
   ]
  },
  {
   "cell_type": "code",
   "execution_count": 137,
   "metadata": {
    "ExecuteTime": {
     "end_time": "2022-08-31T14:58:20.829171Z",
     "start_time": "2022-08-31T14:58:20.816169Z"
    },
    "scrolled": false
   },
   "outputs": [],
   "source": [
    "# rename types of cross_validation\n",
    "def rename_cv(row):\n",
    "    if row.cross_validation.lower()=='k': \n",
    "        return 'k-fold'\n",
    "    if row.cross_validation.lower().isdigit(): \n",
    "        return 'k-fold'\n",
    "    if row.cross_validation=='NS':  \n",
    "        return \"unknown\"\n",
    "    if row.cross_validation=='LOO':  \n",
    "        return \"LOO\"\n",
    "    if row.cross_validation=='LOSO':  \n",
    "        return \"LOSO\"\n",
    "    else:\n",
    "        return \"other\"\n",
    "\n",
    "data['cross_validation'] = data.dropna(subset=['cross_validation']).apply(lambda row: rename_cv(row), axis=1) "
   ]
  },
  {
   "cell_type": "code",
   "execution_count": 138,
   "metadata": {
    "ExecuteTime": {
     "end_time": "2022-08-31T14:58:23.143019Z",
     "start_time": "2022-08-31T14:58:23.136035Z"
    }
   },
   "outputs": [
    {
     "data": {
      "text/plain": [
       "cross_validation\n",
       "LOO         15\n",
       "LOSO        13\n",
       "k-fold     116\n",
       "other        3\n",
       "unknown     27\n",
       "Name: first_author, dtype: int64"
      ]
     },
     "execution_count": 138,
     "metadata": {},
     "output_type": "execute_result"
    }
   ],
   "source": [
    "data.groupby(['cross_validation']).first_author.count()"
   ]
  },
  {
   "cell_type": "code",
   "execution_count": 139,
   "metadata": {
    "ExecuteTime": {
     "end_time": "2022-08-31T14:58:28.959628Z",
     "start_time": "2022-08-31T14:58:28.691312Z"
    }
   },
   "outputs": [
    {
     "data": {
      "text/plain": [
       "<Figure size 1440x360 with 0 Axes>"
      ]
     },
     "metadata": {},
     "output_type": "display_data"
    },
    {
     "data": {
      "image/png": "[encoded data removed]",
      "text/plain": [
       "<Figure size 448.25x360 with 1 Axes>"
      ]
     },
     "metadata": {
      "needs_background": "light"
     },
     "output_type": "display_data"
    }
   ],
   "source": [
    "fig = plt.figure(figsize=(20,5))\n",
    "\n",
    "ax=sns.displot(data=data[data.full.isin(['neuro','cs'])],\n",
    "             y='full',\n",
    "                hue='cross_validation', \n",
    "               hue_order=['k-fold','LOO','LOSO','other','unknown'],\n",
    "               stat='count',common_norm=True,\n",
    "            binwidth=5, multiple='fill', shrink=.8)\n",
    "  \n",
    "\n",
    "plt.savefig('./pics/cross_validation.pdf', format='pdf', dpi=600)"
   ]
  },
  {
   "cell_type": "markdown",
   "metadata": {},
   "source": [
    "## Sample size"
   ]
  },
  {
   "cell_type": "code",
   "execution_count": 140,
   "metadata": {
    "ExecuteTime": {
     "end_time": "2022-08-31T14:58:50.120837Z",
     "start_time": "2022-08-31T14:58:50.115851Z"
    }
   },
   "outputs": [
    {
     "data": {
      "text/plain": [
       "array(['Inter', 'Intra', nan, 'Intra, Inter, Combination', 'All',\n",
       "       'Intra/All'], dtype=object)"
      ]
     },
     "execution_count": 140,
     "metadata": {},
     "output_type": "execute_result"
    }
   ],
   "source": [
    "data.within_between.unique()"
   ]
  },
  {
   "cell_type": "code",
   "execution_count": 141,
   "metadata": {
    "ExecuteTime": {
     "end_time": "2022-08-31T14:58:54.040724Z",
     "start_time": "2022-08-31T14:58:54.032724Z"
    }
   },
   "outputs": [
    {
     "data": {
      "text/plain": [
       "within_between\n",
       "Inter    39\n",
       "Intra    70\n",
       "Name: first_author, dtype: int64"
      ]
     },
     "execution_count": 141,
     "metadata": {},
     "output_type": "execute_result"
    }
   ],
   "source": [
    "data[data.within_between.isin(['Intra','Inter'])].groupby('within_between').first_author.count()"
   ]
  },
  {
   "cell_type": "markdown",
   "metadata": {},
   "source": [
    "### within-subject studies"
   ]
  },
  {
   "cell_type": "code",
   "execution_count": 142,
   "metadata": {
    "ExecuteTime": {
     "end_time": "2022-08-31T14:58:57.289334Z",
     "start_time": "2022-08-31T14:58:57.283351Z"
    }
   },
   "outputs": [
    {
     "name": "stderr",
     "output_type": "stream",
     "text": [
      "c:\\users\\aucouturier\\appdata\\local\\programs\\python\\python36\\lib\\site-packages\\pandas\\core\\generic.py:5170: SettingWithCopyWarning: \n",
      "A value is trying to be set on a copy of a slice from a DataFrame.\n",
      "Try using .loc[row_indexer,col_indexer] = value instead\n",
      "\n",
      "See the caveats in the documentation: https://pandas.pydata.org/pandas-docs/stable/user_guide/indexing.html#returning-a-view-versus-a-copy\n",
      "  self[name] = value\n"
     ]
    }
   ],
   "source": [
    "within_df = data[data.within_between == 'Intra']\n",
    "# coerce to numeric\n",
    "within_df.nb_samples = pd.to_numeric(within_df.nb_samples, errors='coerce')"
   ]
  },
  {
   "cell_type": "code",
   "execution_count": 143,
   "metadata": {
    "ExecuteTime": {
     "end_time": "2022-08-31T14:58:59.440487Z",
     "start_time": "2022-08-31T14:58:59.290888Z"
    }
   },
   "outputs": [
    {
     "data": {
      "text/plain": [
       "<matplotlib.axes._subplots.AxesSubplot at 0x26e55708438>"
      ]
     },
     "execution_count": 143,
     "metadata": {},
     "output_type": "execute_result"
    },
    {
     "data": {
      "image/png": "[encoded data removed]",
      "text/plain": [
       "<Figure size 432x288 with 1 Axes>"
      ]
     },
     "metadata": {
      "needs_background": "light"
     },
     "output_type": "display_data"
    }
   ],
   "source": [
    "sns.histplot(within_df.nb_samples, kde=True)"
   ]
  },
  {
   "cell_type": "code",
   "execution_count": 144,
   "metadata": {
    "ExecuteTime": {
     "end_time": "2022-08-31T14:59:02.049576Z",
     "start_time": "2022-08-31T14:59:02.044563Z"
    }
   },
   "outputs": [],
   "source": [
    "# remove outlier data\n",
    "within_df = within_df[within_df.nb_samples<500]"
   ]
  },
  {
   "cell_type": "code",
   "execution_count": 145,
   "metadata": {
    "ExecuteTime": {
     "end_time": "2022-08-31T14:59:04.361922Z",
     "start_time": "2022-08-31T14:59:04.354908Z"
    }
   },
   "outputs": [
    {
     "data": {
      "text/plain": [
       "count     27.000000\n",
       "mean     161.851852\n",
       "std      110.824082\n",
       "min        1.000000\n",
       "25%       50.000000\n",
       "50%      200.000000\n",
       "75%      220.000000\n",
       "max      450.000000\n",
       "Name: nb_samples, dtype: float64"
      ]
     },
     "execution_count": 145,
     "metadata": {},
     "output_type": "execute_result"
    }
   ],
   "source": [
    "within_df.nb_samples.describe()"
   ]
  },
  {
   "cell_type": "code",
   "execution_count": 146,
   "metadata": {
    "ExecuteTime": {
     "end_time": "2022-08-31T14:59:07.261130Z",
     "start_time": "2022-08-31T14:59:06.917002Z"
    }
   },
   "outputs": [
    {
     "data": {
      "image/png": "[encoded data removed]",
      "text/plain": [
       "<Figure size 360x360 with 1 Axes>"
      ]
     },
     "metadata": {
      "needs_background": "light"
     },
     "output_type": "display_data"
    }
   ],
   "source": [
    "sns.lmplot(data=within_df,\n",
    "           x='nb_samples',\n",
    "          y='accuracy')\n",
    "plt.title('Within-subject studies')\n",
    "plt.savefig('./pics/within-subject.jpg',bbox_inches='tight')"
   ]
  },
  {
   "cell_type": "code",
   "execution_count": 147,
   "metadata": {
    "ExecuteTime": {
     "end_time": "2022-08-31T14:59:11.944188Z",
     "start_time": "2022-08-31T14:59:11.928263Z"
    }
   },
   "outputs": [
    {
     "data": {
      "text/html": [
       "<div>\n",
       "<style scoped>\n",
       "    .dataframe tbody tr th:only-of-type {\n",
       "        vertical-align: middle;\n",
       "    }\n",
       "\n",
       "    .dataframe tbody tr th {\n",
       "        vertical-align: top;\n",
       "    }\n",
       "\n",
       "    .dataframe thead th {\n",
       "        text-align: right;\n",
       "    }\n",
       "</style>\n",
       "<table border=\"1\" class=\"dataframe\">\n",
       "  <thead>\n",
       "    <tr style=\"text-align: right;\">\n",
       "      <th></th>\n",
       "      <th>names</th>\n",
       "      <th>coef</th>\n",
       "      <th>se</th>\n",
       "      <th>T</th>\n",
       "      <th>pval</th>\n",
       "      <th>r2</th>\n",
       "      <th>adj_r2</th>\n",
       "      <th>CI[2.5%]</th>\n",
       "      <th>CI[97.5%]</th>\n",
       "    </tr>\n",
       "  </thead>\n",
       "  <tbody>\n",
       "    <tr>\n",
       "      <th>0</th>\n",
       "      <td>Intercept</td>\n",
       "      <td>83.08</td>\n",
       "      <td>3.26</td>\n",
       "      <td>25.46</td>\n",
       "      <td>0.00</td>\n",
       "      <td>0.0</td>\n",
       "      <td>-0.04</td>\n",
       "      <td>76.33</td>\n",
       "      <td>89.83</td>\n",
       "    </tr>\n",
       "    <tr>\n",
       "      <th>1</th>\n",
       "      <td>nb_samples</td>\n",
       "      <td>0.01</td>\n",
       "      <td>0.02</td>\n",
       "      <td>0.32</td>\n",
       "      <td>0.75</td>\n",
       "      <td>0.0</td>\n",
       "      <td>-0.04</td>\n",
       "      <td>-0.03</td>\n",
       "      <td>0.04</td>\n",
       "    </tr>\n",
       "  </tbody>\n",
       "</table>\n",
       "</div>"
      ],
      "text/plain": [
       "        names   coef    se      T  pval   r2  adj_r2  CI[2.5%]  CI[97.5%]\n",
       "0   Intercept  83.08  3.26  25.46  0.00  0.0   -0.04     76.33      89.83\n",
       "1  nb_samples   0.01  0.02   0.32  0.75  0.0   -0.04     -0.03       0.04"
      ]
     },
     "execution_count": 147,
     "metadata": {},
     "output_type": "execute_result"
    }
   ],
   "source": [
    "lm = pg.linear_regression(within_df.nb_samples, \n",
    "                          within_df.accuracy,\n",
    "                         remove_na=True)\n",
    "\n",
    "lm.round(2)"
   ]
  },
  {
   "cell_type": "markdown",
   "metadata": {},
   "source": [
    "### between-subject studies"
   ]
  },
  {
   "cell_type": "code",
   "execution_count": 148,
   "metadata": {
    "ExecuteTime": {
     "end_time": "2022-08-31T14:59:15.425144Z",
     "start_time": "2022-08-31T14:59:15.419161Z"
    }
   },
   "outputs": [
    {
     "name": "stderr",
     "output_type": "stream",
     "text": [
      "c:\\users\\aucouturier\\appdata\\local\\programs\\python\\python36\\lib\\site-packages\\pandas\\core\\generic.py:5170: SettingWithCopyWarning: \n",
      "A value is trying to be set on a copy of a slice from a DataFrame.\n",
      "Try using .loc[row_indexer,col_indexer] = value instead\n",
      "\n",
      "See the caveats in the documentation: https://pandas.pydata.org/pandas-docs/stable/user_guide/indexing.html#returning-a-view-versus-a-copy\n",
      "  self[name] = value\n"
     ]
    }
   ],
   "source": [
    "between_df = data[data.within_between == 'Inter']\n",
    "# coerce to numeric\n",
    "between_df.nb_subjects = pd.to_numeric(between_df.nb_subjects, errors='coerce')"
   ]
  },
  {
   "cell_type": "code",
   "execution_count": 149,
   "metadata": {
    "ExecuteTime": {
     "end_time": "2022-08-31T14:59:16.435003Z",
     "start_time": "2022-08-31T14:59:16.430018Z"
    }
   },
   "outputs": [
    {
     "data": {
      "text/plain": [
       "array([  nan,   32.,   10.,   18.,   28.,   36.,   20.,   60.,   44.,\n",
       "        118.,  265.,   26.,  348.,  220.,  169.,   17., 1889.,   34.,\n",
       "         12.,   50.,   23.,   70.,    8.,   84.,  101.,   24.])"
      ]
     },
     "execution_count": 149,
     "metadata": {},
     "output_type": "execute_result"
    }
   ],
   "source": [
    "between_df.nb_subjects.unique()"
   ]
  },
  {
   "cell_type": "code",
   "execution_count": 150,
   "metadata": {
    "ExecuteTime": {
     "end_time": "2022-08-31T14:59:18.650528Z",
     "start_time": "2022-08-31T14:59:18.453016Z"
    }
   },
   "outputs": [
    {
     "data": {
      "text/plain": [
       "<matplotlib.axes._subplots.AxesSubplot at 0x26e555461d0>"
      ]
     },
     "execution_count": 150,
     "metadata": {},
     "output_type": "execute_result"
    },
    {
     "data": {
      "image/png": "[encoded data removed]",
      "text/plain": [
       "<Figure size 432x288 with 1 Axes>"
      ]
     },
     "metadata": {
      "needs_background": "light"
     },
     "output_type": "display_data"
    }
   ],
   "source": [
    "sns.histplot(between_df.nb_subjects, kde=True)"
   ]
  },
  {
   "cell_type": "code",
   "execution_count": 151,
   "metadata": {
    "ExecuteTime": {
     "end_time": "2022-08-31T14:59:21.260548Z",
     "start_time": "2022-08-31T14:59:21.254590Z"
    }
   },
   "outputs": [],
   "source": [
    "# remove outlier data\n",
    "between_df = between_df[between_df.nb_subjects<500]"
   ]
  },
  {
   "cell_type": "code",
   "execution_count": 152,
   "metadata": {
    "ExecuteTime": {
     "end_time": "2022-08-31T14:59:21.846600Z",
     "start_time": "2022-08-31T14:59:21.838623Z"
    }
   },
   "outputs": [
    {
     "data": {
      "text/plain": [
       "count     34.000000\n",
       "mean      64.617647\n",
       "std       77.027352\n",
       "min        8.000000\n",
       "25%       20.750000\n",
       "50%       34.000000\n",
       "75%       60.000000\n",
       "max      348.000000\n",
       "Name: nb_subjects, dtype: float64"
      ]
     },
     "execution_count": 152,
     "metadata": {},
     "output_type": "execute_result"
    }
   ],
   "source": [
    "between_df.nb_subjects.describe()"
   ]
  },
  {
   "cell_type": "code",
   "execution_count": 153,
   "metadata": {
    "ExecuteTime": {
     "end_time": "2022-08-31T14:59:24.333127Z",
     "start_time": "2022-08-31T14:59:23.983062Z"
    }
   },
   "outputs": [
    {
     "data": {
      "image/png": "[encoded data removed]",
      "text/plain": [
       "<Figure size 360x360 with 1 Axes>"
      ]
     },
     "metadata": {
      "needs_background": "light"
     },
     "output_type": "display_data"
    }
   ],
   "source": [
    "sns.lmplot(data=between_df,\n",
    "           x='nb_subjects',\n",
    "          y='accuracy')\n",
    "plt.title('Between-subject studies')\n",
    "plt.savefig('./pics/between-subject.jpg',bbox_inches='tight')"
   ]
  },
  {
   "cell_type": "code",
   "execution_count": 154,
   "metadata": {
    "ExecuteTime": {
     "end_time": "2022-08-31T14:59:28.051756Z",
     "start_time": "2022-08-31T14:59:28.036772Z"
    }
   },
   "outputs": [
    {
     "data": {
      "text/html": [
       "<div>\n",
       "<style scoped>\n",
       "    .dataframe tbody tr th:only-of-type {\n",
       "        vertical-align: middle;\n",
       "    }\n",
       "\n",
       "    .dataframe tbody tr th {\n",
       "        vertical-align: top;\n",
       "    }\n",
       "\n",
       "    .dataframe thead th {\n",
       "        text-align: right;\n",
       "    }\n",
       "</style>\n",
       "<table border=\"1\" class=\"dataframe\">\n",
       "  <thead>\n",
       "    <tr style=\"text-align: right;\">\n",
       "      <th></th>\n",
       "      <th>names</th>\n",
       "      <th>coef</th>\n",
       "      <th>se</th>\n",
       "      <th>T</th>\n",
       "      <th>pval</th>\n",
       "      <th>r2</th>\n",
       "      <th>adj_r2</th>\n",
       "      <th>CI[2.5%]</th>\n",
       "      <th>CI[97.5%]</th>\n",
       "    </tr>\n",
       "  </thead>\n",
       "  <tbody>\n",
       "    <tr>\n",
       "      <th>0</th>\n",
       "      <td>Intercept</td>\n",
       "      <td>89.89</td>\n",
       "      <td>1.88</td>\n",
       "      <td>47.74</td>\n",
       "      <td>0.00</td>\n",
       "      <td>0.06</td>\n",
       "      <td>0.03</td>\n",
       "      <td>86.05</td>\n",
       "      <td>93.73</td>\n",
       "    </tr>\n",
       "    <tr>\n",
       "      <th>1</th>\n",
       "      <td>nb_subjects</td>\n",
       "      <td>-0.03</td>\n",
       "      <td>0.02</td>\n",
       "      <td>-1.43</td>\n",
       "      <td>0.16</td>\n",
       "      <td>0.06</td>\n",
       "      <td>0.03</td>\n",
       "      <td>-0.06</td>\n",
       "      <td>0.01</td>\n",
       "    </tr>\n",
       "  </tbody>\n",
       "</table>\n",
       "</div>"
      ],
      "text/plain": [
       "         names   coef    se      T  pval    r2  adj_r2  CI[2.5%]  CI[97.5%]\n",
       "0    Intercept  89.89  1.88  47.74  0.00  0.06    0.03     86.05      93.73\n",
       "1  nb_subjects  -0.03  0.02  -1.43  0.16  0.06    0.03     -0.06       0.01"
      ]
     },
     "execution_count": 154,
     "metadata": {},
     "output_type": "execute_result"
    }
   ],
   "source": [
    "lm = pg.linear_regression(between_df.nb_subjects, \n",
    "                          between_df.accuracy,\n",
    "                         remove_na=True)\n",
    "\n",
    "lm.round(2)"
   ]
  }
 ],
 "metadata": {
  "kernelspec": {
   "display_name": "Python 3",
   "language": "python",
   "name": "python3"
  },
  "language_info": {
   "codemirror_mode": {
    "name": "ipython",
    "version": 3
   },
   "file_extension": ".py",
   "mimetype": "text/x-python",
   "name": "python",
   "nbconvert_exporter": "python",
   "pygments_lexer": "ipython3",
   "version": "3.6.8"
  },
  "toc": {
   "base_numbering": 1,
   "nav_menu": {},
   "number_sections": true,
   "sideBar": true,
   "skip_h1_title": true,
   "title_cell": "Table of Contents",
   "title_sidebar": "Contents",
   "toc_cell": false,
   "toc_position": {},
   "toc_section_display": true,
   "toc_window_display": true
  }
 },
 "nbformat": 4,
 "nbformat_minor": 4
}
